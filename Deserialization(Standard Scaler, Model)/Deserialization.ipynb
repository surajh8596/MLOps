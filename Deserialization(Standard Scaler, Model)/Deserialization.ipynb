{
 "cells": [
  {
   "cell_type": "markdown",
   "id": "d79e8a61",
   "metadata": {},
   "source": [
    "## Deserialization of Preprocessing object and models"
   ]
  },
  {
   "cell_type": "code",
   "execution_count": null,
   "id": "c68d748f",
   "metadata": {},
   "outputs": [],
   "source": []
  },
  {
   "cell_type": "markdown",
   "id": "65e3fcec",
   "metadata": {},
   "source": [
    "### Import required packages"
   ]
  },
  {
   "cell_type": "code",
   "execution_count": 2,
   "id": "3d7538ed",
   "metadata": {},
   "outputs": [],
   "source": [
    "import warnings\n",
    "warnings.filterwarnings('ignore')\n",
    "import pandas as pd\n",
    "import numpy as np\n",
    "import pickle"
   ]
  },
  {
   "cell_type": "markdown",
   "id": "307cc9c5",
   "metadata": {},
   "source": [
    "### Unpickle or deserialize preprocesingobjects and best model(Ada Boost) for waiter tip prediction"
   ]
  },
  {
   "cell_type": "code",
   "execution_count": 4,
   "id": "14f8473d",
   "metadata": {},
   "outputs": [],
   "source": [
    "ohe_path='D:\\\\DATA SCIENCE Internship with Innomatics\\\\MLOps\\\\Deserialization(Standard Scaler, Model)\\\\serialized object\\\\preprocessing\\\\one_hot.pkl'\n",
    "std_path='D:\\\\DATA SCIENCE Internship with Innomatics\\\\MLOps\\\\Deserialization(Standard Scaler, Model)\\\\serialized object\\\\preprocessing\\\\std_scaler.pkl'\n",
    "one_hot_encoder=pickle.load(open(ohe_path, 'rb'))\n",
    "standard_scaler=pickle.load(open(std_path, 'rb'))"
   ]
  },
  {
   "cell_type": "code",
   "execution_count": 5,
   "id": "06b5bf72",
   "metadata": {},
   "outputs": [],
   "source": [
    "ada_path='D:\\\\DATA SCIENCE Internship with Innomatics\\\\MLOps\\\\Deserialization(Standard Scaler, Model)\\\\serialized object\\\\models\\\\adaboost.pkl'\n",
    "ada_boost=pickle.load(open(ada_path, 'rb'))"
   ]
  },
  {
   "cell_type": "code",
   "execution_count": null,
   "id": "ab10ee05",
   "metadata": {},
   "outputs": [],
   "source": []
  },
  {
   "cell_type": "markdown",
   "id": "314f743a",
   "metadata": {},
   "source": [
    "### For predicting waiter tip take input from users"
   ]
  },
  {
   "cell_type": "code",
   "execution_count": 7,
   "id": "54eac471",
   "metadata": {},
   "outputs": [
    {
     "name": "stdout",
     "output_type": "stream",
     "text": [
      "Enter Gender(Male or Female) = Male\n",
      "Enter Day of the Week(Thur, Fri, Sat, Sun) = Fri\n",
      "Enter Meal time(Lunch or Dinner) = Lunch\n",
      "Enter whether customer smoke(Yes or No) = Yes\n",
      "Enter the total bill = 50\n",
      "Enter Size of the Table = 3\n"
     ]
    },
    {
     "data": {
      "text/html": [
       "<div>\n",
       "<style scoped>\n",
       "    .dataframe tbody tr th:only-of-type {\n",
       "        vertical-align: middle;\n",
       "    }\n",
       "\n",
       "    .dataframe tbody tr th {\n",
       "        vertical-align: top;\n",
       "    }\n",
       "\n",
       "    .dataframe thead th {\n",
       "        text-align: right;\n",
       "    }\n",
       "</style>\n",
       "<table border=\"1\" class=\"dataframe\">\n",
       "  <thead>\n",
       "    <tr style=\"text-align: right;\">\n",
       "      <th></th>\n",
       "      <th>sex</th>\n",
       "      <th>day</th>\n",
       "      <th>time</th>\n",
       "      <th>smoker</th>\n",
       "      <th>total_bill</th>\n",
       "      <th>size</th>\n",
       "    </tr>\n",
       "  </thead>\n",
       "  <tbody>\n",
       "    <tr>\n",
       "      <th>0</th>\n",
       "      <td>Male</td>\n",
       "      <td>Fri</td>\n",
       "      <td>Lunch</td>\n",
       "      <td>Yes</td>\n",
       "      <td>50</td>\n",
       "      <td>3</td>\n",
       "    </tr>\n",
       "  </tbody>\n",
       "</table>\n",
       "</div>"
      ],
      "text/plain": [
       "    sex  day   time smoker  total_bill  size\n",
       "0  Male  Fri  Lunch    Yes          50     3"
      ]
     },
     "execution_count": 7,
     "metadata": {},
     "output_type": "execute_result"
    }
   ],
   "source": [
    "sex=input(\"Enter Gender(Male or Female) = \")\n",
    "day=input(\"Enter Day of the Week(Thur, Fri, Sat, Sun) = \")\n",
    "time=input(\"Enter Meal time(Lunch or Dinner) = \")\n",
    "smoker=input(\"Enter whether customer smoke(Yes or No) = \")\n",
    "total_bill=int(input(\"Enter the total bill = \"))\n",
    "size=int(input(\"Enter Size of the Table = \"))\n",
    "data=pd.DataFrame({\"sex\":[sex],\"day\":[day], \"time\":[time],\"smoker\":[smoker],\"total_bill\":[total_bill],\"size\":[size]})\n",
    "data"
   ]
  },
  {
   "cell_type": "markdown",
   "id": "46fdc71f",
   "metadata": {},
   "source": [
    "### Prerpcessing input data"
   ]
  },
  {
   "cell_type": "code",
   "execution_count": 9,
   "id": "eadca7be",
   "metadata": {},
   "outputs": [
    {
     "data": {
      "text/plain": [
       "array([[0.        , 1.        , 0.        , 1.        , 1.        ,\n",
       "        0.        , 0.        , 0.        , 0.        , 1.        ,\n",
       "        3.2671007 , 0.43284366]])"
      ]
     },
     "execution_count": 9,
     "metadata": {},
     "output_type": "execute_result"
    }
   ],
   "source": [
    "cat_col=['sex','smoker','day','time']\n",
    "num_col=['total_bill','size']\n",
    "\n",
    "cat_col_tf=one_hot_encoder.transform(data[cat_col]).toarray()\n",
    "num_col_tf=standard_scaler.transform(data[num_col])\n",
    "data_tf=np.hstack((cat_col_tf,num_col_tf))\n",
    "data_tf"
   ]
  },
  {
   "cell_type": "markdown",
   "id": "aa1d633f",
   "metadata": {},
   "source": [
    "### Prediction using Ada Boost Regressor"
   ]
  },
  {
   "cell_type": "code",
   "execution_count": 10,
   "id": "b4e43d74",
   "metadata": {},
   "outputs": [
    {
     "name": "stdout",
     "output_type": "stream",
     "text": [
      "Waiter will get 10.0 Dollar tip\n"
     ]
    }
   ],
   "source": [
    "prediction=ada_boost.predict(data_tf)[0]\n",
    "print(\"Waiter will get {} Dollar tip\".format(prediction))"
   ]
  },
  {
   "cell_type": "code",
   "execution_count": null,
   "id": "c7fae7d4",
   "metadata": {},
   "outputs": [],
   "source": []
  }
 ],
 "metadata": {
  "kernelspec": {
   "display_name": "Python 3 (ipykernel)",
   "language": "python",
   "name": "python3"
  },
  "language_info": {
   "codemirror_mode": {
    "name": "ipython",
    "version": 3
   },
   "file_extension": ".py",
   "mimetype": "text/x-python",
   "name": "python",
   "nbconvert_exporter": "python",
   "pygments_lexer": "ipython3",
   "version": "3.9.7"
  }
 },
 "nbformat": 4,
 "nbformat_minor": 5
}
